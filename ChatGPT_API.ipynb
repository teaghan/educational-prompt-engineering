{
 "cells": [
  {
   "cell_type": "markdown",
   "id": "27f42810-73fd-4d23-9357-5b92ce1b06a5",
   "metadata": {},
   "source": [
    "# Interacting with ChatGPT API\n",
    "\n",
    "To use the ChatGPT API, you will need to:\n",
    "\n",
    "1. [Create an account](https://openai.com/) with OpenAI (you probably already have one if you use ChatGPT).\n",
    "2. [Add credit](https://platform.openai.com/account/billing/overview) to your billing info.\n",
    "3. [Create an API key](https://www.geeksforgeeks.org/how-to-use-chatgpt-api-in-python/).\n",
    "4. Install the openai API:\n",
    "```\n",
    "pip install openai\n",
    "```\n",
    "\n",
    "To import the key into your Python environment, you can create a `key.txt` file in your project folder with your API key:\n",
    "\n",
    "```\n",
    "example-api-key-123\n",
    "```\n",
    "\n",
    "Then you can use a function like `load_api_key()` below:"
   ]
  },
  {
   "cell_type": "code",
   "execution_count": 1,
   "id": "6d4e266a-5baf-473e-a67b-7378650fec4f",
   "metadata": {
    "execution": {
     "iopub.execute_input": "2023-12-10T02:53:19.551691Z",
     "iopub.status.busy": "2023-12-10T02:53:19.551383Z",
     "iopub.status.idle": "2023-12-10T02:53:19.840927Z",
     "shell.execute_reply": "2023-12-10T02:53:19.840012Z",
     "shell.execute_reply.started": "2023-12-10T02:53:19.551659Z"
    },
    "tags": []
   },
   "outputs": [],
   "source": [
    "import openai\n",
    "\n",
    "def load_api_key(key_file='key.txt'):\n",
    "    with open(key_file) as f:\n",
    "        # Get API key from text file\n",
    "        key = f.read().strip(\"\\n\")\n",
    "    return key\n",
    "\n",
    "openai.api_key = load_api_key()"
   ]
  },
  {
   "cell_type": "markdown",
   "id": "ddcfb51c-328e-4e67-adbc-f5d9820ad040",
   "metadata": {},
   "source": [
    "## Performing a Chat API call\n",
    "\n",
    "A chat API call has two required inputs:\n",
    "- `model`: the name of the model you want to use (e.g., `gpt-3.5-turbo`, `gpt-4`, `gpt-3.5-turbo-0613`, `gpt-3.5-turbo-16k-0613`)\n",
    "- `messages`: a list of message objects, where each object has two required fields:\n",
    "    - `role`: the role of the messenger (either `system`, `user`, or `assistant`)\n",
    "    - `content`: the content of the message (e.g., `Write me a beautiful poem`)\n",
    "\n",
    "Messages can also contain an optional `name` field, which give the messenger a name. E.g., `example-user`, `Alice`, `BlackbeardBot`. Names may not contain spaces.\n",
    "\n",
    "Typically, a conversation will start with a system message that tells the assistant how to behave, followed by alternating user and assistant messages, but you are not required to follow this format.\n",
    "\n",
    "Let's look at an example chat API calls to see how the chat format works in practice."
   ]
  },
  {
   "cell_type": "code",
   "execution_count": 2,
   "id": "26903a94-0652-4c03-a85e-8bbccbefa405",
   "metadata": {
    "execution": {
     "iopub.execute_input": "2023-12-10T02:53:19.842403Z",
     "iopub.status.busy": "2023-12-10T02:53:19.841784Z",
     "iopub.status.idle": "2023-12-10T02:53:20.698957Z",
     "shell.execute_reply": "2023-12-10T02:53:20.697785Z",
     "shell.execute_reply.started": "2023-12-10T02:53:19.842377Z"
    },
    "tags": []
   },
   "outputs": [
    {
     "data": {
      "text/plain": [
       "'Orange who?'"
      ]
     },
     "execution_count": 2,
     "metadata": {},
     "output_type": "execute_result"
    }
   ],
   "source": [
    "model = 'gpt-3.5-turbo' \n",
    "\n",
    "messages = [{'role': 'system', 'content': 'You are a helpful assistant.'},\n",
    "            {'role': 'user', 'content': 'Knock knock.'},\n",
    "            {'role': 'assistant', 'content': \"Who's there?\"},\n",
    "            {'role': 'user', 'content': 'Orange.'}]\n",
    "\n",
    "response = openai.ChatCompletion.create(model=model, messages=messages, max_tokens=100)\n",
    "\n",
    "response['choices'][0]['message']['content']"
   ]
  },
  {
   "cell_type": "markdown",
   "id": "822a7b2c-1911-4e40-9b4a-8ee50009d337",
   "metadata": {
    "execution": {
     "iopub.execute_input": "2023-12-10T02:47:17.486330Z",
     "iopub.status.busy": "2023-12-10T02:47:17.484936Z",
     "iopub.status.idle": "2023-12-10T02:47:17.588621Z",
     "shell.execute_reply": "2023-12-10T02:47:17.587853Z",
     "shell.execute_reply.started": "2023-12-10T02:47:17.486265Z"
    },
    "tags": []
   },
   "source": [
    "# Providing feedback for an essay\n",
    "\n",
    "### Load student's .docx file\n",
    "\n",
    "Let's load the text from a grade 9 essay on Data Privacy (I had ChatGPT write this one):"
   ]
  },
  {
   "cell_type": "code",
   "execution_count": 3,
   "id": "492bbe9a-533f-47c3-8f9e-cb64e375b5ee",
   "metadata": {
    "execution": {
     "iopub.execute_input": "2023-12-10T02:57:18.322604Z",
     "iopub.status.busy": "2023-12-10T02:57:18.320577Z",
     "iopub.status.idle": "2023-12-10T02:57:18.417048Z",
     "shell.execute_reply": "2023-12-10T02:57:18.416156Z",
     "shell.execute_reply.started": "2023-12-10T02:57:18.322514Z"
    },
    "tags": []
   },
   "outputs": [
    {
     "name": "stdout",
     "output_type": "stream",
     "text": [
      "The Significance of Data Privacy in the Digital Age\n",
      "\n",
      "Taylor Smith\n",
      "\n",
      "In our ever-evolving digital world, where online tools have become an integral part of our daily lives, the importance of data privacy cannot be overstated. As a 9th-grade student navigating the vast realm of the internet, it's crucial to understand the potential risks associated with sharing personal information online. This essay will explore three key reasons why data privacy is paramount when using online tools: protection ag \n",
      "...\n"
     ]
    }
   ],
   "source": [
    "from docx import Document\n",
    "\n",
    "def getText(filename):\n",
    "    doc = Document(filename)\n",
    "    fullText = []\n",
    "    for para in doc.paragraphs:\n",
    "        fullText.append(para.text)\n",
    "    return '\\n'.join(fullText)\n",
    "\n",
    "essay_txt = getText('data/Data_Privacy_Essay.docx')\n",
    "\n",
    "# Display the first 500 characters to see what we're working with\n",
    "print(essay_txt[:500], '\\n...')"
   ]
  },
  {
   "cell_type": "markdown",
   "id": "5becaebe-3799-4474-affa-6acd1aeb5cfd",
   "metadata": {},
   "source": [
    "### Load prompt template\n",
    "\n",
    "We can load a prompt template for easy implementation:"
   ]
  },
  {
   "cell_type": "code",
   "execution_count": 16,
   "id": "c47edcf5-5852-473e-8430-b6f37acfc803",
   "metadata": {
    "execution": {
     "iopub.execute_input": "2023-12-10T03:14:26.396665Z",
     "iopub.status.busy": "2023-12-10T03:14:26.395086Z",
     "iopub.status.idle": "2023-12-10T03:14:26.407268Z",
     "shell.execute_reply": "2023-12-10T03:14:26.405472Z",
     "shell.execute_reply.started": "2023-12-10T03:14:26.396599Z"
    },
    "tags": []
   },
   "outputs": [
    {
     "name": "stdout",
     "output_type": "stream",
     "text": [
      "{essay_content_here}\n",
      "\n",
      "Provide feedback on the essay above. Comment on the following aspects of the essay:\n",
      "\n",
      "1. Thesis Statement:\n",
      "   - Does the essay have a clear and concise thesis statement that presents the main argument or purpose of the essay?\n",
      "\n",
      "2. Organization:\n",
      "   - Is there a well-structured introduction, body, and conclusion?\n",
      "   - Are paragraphs logically ordered and connected to each other?\n",
      "\n",
      "3. Supporting Evidence:\n",
      "   - Does the student provide relevant and sufficient evidence to support their thesis?\n",
      "   - Is the evidence properly cited, and does it come from credible sources?\n",
      "\n",
      "4. Analysis:\n",
      "   - Does the student analyze and interpret the evidence rather than just presenting it?\n",
      "   - Are connections made between the evidence and the thesis?\n",
      "\n",
      "5. Clarity and Coherence:\n",
      "   - Is the writing clear, concise, and easy to follow?\n",
      "   - Are there smooth transitions between ideas and paragraphs?\n",
      "\n",
      "6. Critical Thinking:\n",
      "   - Does the essay demonstrate critical thinking skills?\n",
      "   - Are alternative perspectives considered and addressed?\n",
      "\n",
      "Use specific examples from the essay to make your feedback more helpful. Your feedback should have an introductory statement regarding the overall quality of the essay, followed by feedback in point form that addresses the six aspects above.\n"
     ]
    }
   ],
   "source": [
    "# Load prompt template\n",
    "with open('data/essay_feedback_prompt.txt', 'r') as f:\n",
    "    prompt = ''.join(f.readlines())\n",
    "print(prompt)"
   ]
  },
  {
   "cell_type": "markdown",
   "id": "87440bd1-e276-41ae-aa46-eb93abd7cdef",
   "metadata": {},
   "source": [
    "### Prompt GPT"
   ]
  },
  {
   "cell_type": "code",
   "execution_count": 17,
   "id": "eeeca3a0-8513-4ceb-a5d7-0d6a63f80d0a",
   "metadata": {
    "execution": {
     "iopub.execute_input": "2023-12-10T03:14:44.074792Z",
     "iopub.status.busy": "2023-12-10T03:14:44.072515Z",
     "iopub.status.idle": "2023-12-10T03:15:08.721230Z",
     "shell.execute_reply": "2023-12-10T03:15:08.719175Z",
     "shell.execute_reply.started": "2023-12-10T03:14:44.074723Z"
    },
    "tags": []
   },
   "outputs": [],
   "source": [
    "model = 'gpt-3.5-turbo' \n",
    "\n",
    "# Use the prompt by inserting the essay text into the placeholder\n",
    "messages = [{'role': 'system', 'content': 'You are a English 9 teacher who provides constructive criticism that is strength-based.'},\n",
    "            {'role': 'user', 'content': prompt.replace('{essay_content_here}', essay_txt)}]\n",
    "\n",
    "# Call ChatGPT\n",
    "response = openai.ChatCompletion.create(model=model, messages=messages, max_tokens=1000)\n",
    "\n",
    "essay_feedback = response['choices'][0]['message']['content']"
   ]
  },
  {
   "cell_type": "code",
   "execution_count": 19,
   "id": "6545628d-2149-4f4f-885f-2804496525e8",
   "metadata": {
    "execution": {
     "iopub.execute_input": "2023-12-10T03:15:25.380226Z",
     "iopub.status.busy": "2023-12-10T03:15:25.377996Z",
     "iopub.status.idle": "2023-12-10T03:15:25.388448Z",
     "shell.execute_reply": "2023-12-10T03:15:25.387077Z",
     "shell.execute_reply.started": "2023-12-10T03:15:25.380157Z"
    },
    "tags": []
   },
   "outputs": [
    {
     "name": "stdout",
     "output_type": "stream",
     "text": [
      "Overall, Taylor's essay on the significance of data privacy in the digital age is well-written and effectively conveys the importance of the topic. The essay exhibits a clear understanding of the subject matter and presents a cohesive argument with relevant supporting evidence. Taylor's writing is concise and easy to follow, and the essay demonstrates critical thinking skills by considering alternative perspectives. Here is the feedback regarding each aspect of the essay:\n",
      "\n",
      "1. Thesis Statement:\n",
      "- The essay does have a clear and concise thesis statement: \"This essay will explore three key reasons why data privacy is paramount when using online tools: protection against identity theft, safeguarding personal reputation, and maintaining control over one's digital footprint.\" The thesis statement effectively sets up the main points to be discussed in the essay.\n",
      "\n",
      "2. Organization:\n",
      "- The essay has a well-structured introduction, body, and conclusion. The introduction provides an overview of the topic and sets up the thesis statement, while the body paragraphs explore each key reason in detail. The conclusion summarizes the main points and reinforces the importance of data privacy.\n",
      "- The paragraphs are logically ordered and connected to each other. Each paragraph focuses on one key reason and provides evidence to support it. The ideas flow smoothly from one paragraph to the next, creating a coherent structure.\n",
      "\n",
      "3. Supporting Evidence:\n",
      "- The student provides relevant and sufficient evidence to support their thesis. For example, in discussing protection against identity theft, they mention the potential consequences of unauthorized financial transactions and false representation in criminal activities. These examples effectively demonstrate the importance of data privacy in preventing such risks.\n",
      "- The evidence is not directly cited, and it would be beneficial for the student to include specific sources to enhance the credibility of their claims. For instance, they could reference studies or reports on the prevalence and impact of identity theft in the digital age.\n",
      "\n",
      "4. Analysis:\n",
      "- The student does a good job of analyzing and interpreting the evidence rather than just presenting it. They explain the potential consequences of data breaches and show how they relate to the overall argument of the essay. \n",
      "- However, the essay could benefit from more in-depth analysis and exploration of the implications of data privacy. For instance, the student could discuss the ethical considerations surrounding data collection and how it impacts individuals' autonomy and privacy rights.\n",
      "\n",
      "5. Clarity and Coherence:\n",
      "- The writing is clear, concise, and easy to follow. The student effectively conveys their ideas without unnecessary complexity.\n",
      "- The essay has smooth transitions between ideas and paragraphs. Each paragraph builds upon the previous one, and there is a clear progression of arguments throughout the essay.\n",
      "\n",
      "6. Critical Thinking:\n",
      "- The essay demonstrates critical thinking skills by considering alternative perspectives. The student acknowledges that employers, college admissions officers, and peers often judge individuals based on their online presence, which adds depth to their argument.\n",
      "- While the essay presents a well-supported argument, it could benefit from addressing counterarguments or potential limitations of data privacy. This would further strengthen the critical thinking aspect of the essay.\n",
      "\n",
      "Overall, Taylor has written a strong and well-structured essay on the significance of data privacy in the digital age. The essay effectively presents the main argument, supports it with relevant evidence, and shows critical thinking skills. With some minor improvements, such as citing sources and further analysis, this essay can become even more impactful. Great job, Taylor!\n"
     ]
    }
   ],
   "source": [
    "print(essay_feedback)"
   ]
  },
  {
   "cell_type": "code",
   "execution_count": null,
   "id": "97756ee2-7dd8-48d2-9deb-e927a51a6cd5",
   "metadata": {},
   "outputs": [],
   "source": []
  }
 ],
 "metadata": {
  "kernelspec": {
   "display_name": "Python 3 (ipykernel)",
   "language": "python",
   "name": "python3"
  },
  "language_info": {
   "codemirror_mode": {
    "name": "ipython",
    "version": 3
   },
   "file_extension": ".py",
   "mimetype": "text/x-python",
   "name": "python",
   "nbconvert_exporter": "python",
   "pygments_lexer": "ipython3",
   "version": "3.10.12"
  }
 },
 "nbformat": 4,
 "nbformat_minor": 5
}
