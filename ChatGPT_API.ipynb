{
 "cells": [
  {
   "cell_type": "markdown",
   "id": "27f42810-73fd-4d23-9357-5b92ce1b06a5",
   "metadata": {},
   "source": [
    "# Interacting with ChatGPT API\n",
    "\n",
    "To use the ChatGPT API, you will need to:\n",
    "\n",
    "1. [Create an account](https://openai.com/) with OpenAI (you probably already have one if you use ChatGPT).\n",
    "2. [Add credit](https://platform.openai.com/account/billing/overview) to your billing info.\n",
    "3. [Create an API key](https://www.geeksforgeeks.org/how-to-use-chatgpt-api-in-python/).\n",
    "4. Install the openai API:\n",
    "```\n",
    "pip install openai\n",
    "```\n",
    "\n",
    "To import the key into your Python environment, you can create a `key.txt` file in your project folder with your API key:\n",
    "\n",
    "```\n",
    "example-api-key-123\n",
    "```\n",
    "\n",
    "Then you can use a function like `load_api_key()` below:"
   ]
  },
  {
   "cell_type": "code",
   "execution_count": 1,
   "id": "6d4e266a-5baf-473e-a67b-7378650fec4f",
   "metadata": {
    "execution": {
     "iopub.execute_input": "2023-12-09T19:56:45.986057Z",
     "iopub.status.busy": "2023-12-09T19:56:45.985833Z",
     "iopub.status.idle": "2023-12-09T19:56:46.252411Z",
     "shell.execute_reply": "2023-12-09T19:56:46.251486Z",
     "shell.execute_reply.started": "2023-12-09T19:56:45.986024Z"
    },
    "tags": []
   },
   "outputs": [],
   "source": [
    "import openai\n",
    "\n",
    "def load_api_key(key_file='key.txt'):\n",
    "    with open(key_file) as f:\n",
    "        # Get API key from text file\n",
    "        key = f.read().strip(\"\\n\")\n",
    "    return key\n",
    "\n",
    "openai.api_key = load_api_key()"
   ]
  },
  {
   "cell_type": "code",
   "execution_count": 2,
   "id": "f9612585-55f3-48b9-9d18-5fb4f0b677c8",
   "metadata": {
    "execution": {
     "iopub.execute_input": "2023-12-09T19:43:53.609317Z",
     "iopub.status.busy": "2023-12-09T19:43:53.607411Z",
     "iopub.status.idle": "2023-12-09T19:43:54.256737Z",
     "shell.execute_reply": "2023-12-09T19:43:54.254831Z",
     "shell.execute_reply.started": "2023-12-09T19:43:53.609250Z"
    },
    "tags": []
   },
   "outputs": [],
   "source": [
    "model = 'gpt-3.5-turbo' # 'gpt-4'\n",
    "\n",
    "messages = [ {\"role\": \"system\", \"content\": \"You are a intelligent assistant.\"} ]\n",
    "\n",
    "chat = openai.ChatCompletion.create(model=\"gpt-4\", messages=messages)\n",
    "\n",
    "reply = chat.choices[0].message.content "
   ]
  },
  {
   "cell_type": "code",
   "execution_count": null,
   "id": "26903a94-0652-4c03-a85e-8bbccbefa405",
   "metadata": {},
   "outputs": [],
   "source": []
  }
 ],
 "metadata": {
  "kernelspec": {
   "display_name": "Python 3 (ipykernel)",
   "language": "python",
   "name": "python3"
  },
  "language_info": {
   "codemirror_mode": {
    "name": "ipython",
    "version": 3
   },
   "file_extension": ".py",
   "mimetype": "text/x-python",
   "name": "python",
   "nbconvert_exporter": "python",
   "pygments_lexer": "ipython3",
   "version": "3.10.12"
  }
 },
 "nbformat": 4,
 "nbformat_minor": 5
}
