{
 "cells": [
  {
   "cell_type": "markdown",
   "id": "3964b17e-6dd4-44b5-a290-0f7eb247d34d",
   "metadata": {},
   "source": [
    "# Back-and-forth Interactions with ChatGPT\n",
    "\n",
    "\n",
    "One of the most powerful ways to interact with ChatGPT is by providing feedback through a back-and-forth conversation. This will allow the user to provide input for ChatGPT to use to either improve its response or dive deeper into specific aspects of its responses.\n",
    "\n",
    "With GPT4, you can even provide an initial prompt with instructions for ChatGPT to facilitate a back-and-forth conversation in a manner you prefer.\n",
    "\n",
    "For instance, the following prompt is a useful way to develop effective explanations of concepts that your students may find tricky to understand:\n",
    "\n",
    "<div class=\"alert alert-info\"><h4>Concept Explanation, Examples, and Analogies</h4><p>\n",
    "\n",
    "You are an experienced teacher and can generate clear, accurate examples for students of concepts. I want you to ask me two questions.\n",
    "\n",
    "The first question is, \"What concept do you want explained?\" Wait for me to answer before asking me the second question: \"Who is the audience for the explanation?\"\n",
    "\n",
    "Then look up the concept and examples of the concept. Provide a clear multiple-paragraph explanation of the concept using 2 specific examples and give me 5 analogies I can use to understand the concept in different ways.\n",
    "    \n",
    "</p></div>\n",
    "\n",
    "The below prompt can help you use ChatGPT to develop a syllabus for your class, which will likely require several iterations of back-and-forth conversation.\n",
    "\n",
    "<div class=\"alert alert-info\"><h4>Syllabus Creation</h4><p>\n",
    "\n",
    "You are an expert learning designer specializing in building syllabi for classes that prompted\n",
    "direct instruction, active learning, retrieval practice, formative assessment, low stakes testing,\n",
    "making connections between concepts, uncovering misconceptions, and interleaving. First ask\n",
    "me what course I’m teaching, including subject matter. Wait for my response. Then ask what\n",
    "learning levels my students are (high school or college). Wait for my response. Then ask how\n",
    "many times my students and I will meet (have class) over the course of a semester and what\n",
    "topics I generally cover. Wait for my response. Then design a syllabus that makes sure students learn effectively.\n",
    "    \n",
    "</p></div>\n",
    "\n",
    "**References:**\n",
    "\n",
    ">1. Mollick, Ethan R. and Mollick, Lilach, Using AI to Implement Effective Teaching Strategies in Classrooms: Five Strategies, Including Prompts (March 17, 2023). The Wharton School Research Paper, Available at SSRN: [https://ssrn.com/abstract=4391243](https://ssrn.com/abstract=4391243) or [http://dx.doi.org/10.2139/ssrn.4391243](http://dx.doi.org/10.2139/ssrn.4391243)\n",
    ">2. [Practical AI for Instructors and Students Part 4: AI for Teachers](https://www.youtube.com/watch?v=SBxb5xW7qFo&list=PL0EdWFC9ZZrUAirFa2amE4Hg05KqCWhoq&index=4)\n"
   ]
  },
  {
   "cell_type": "code",
   "execution_count": null,
   "id": "9e424d1f-8da5-44ca-ab28-3c1271902a57",
   "metadata": {},
   "outputs": [],
   "source": []
  }
 ],
 "metadata": {
  "kernelspec": {
   "display_name": "Python 3 (ipykernel)",
   "language": "python",
   "name": "python3"
  },
  "language_info": {
   "codemirror_mode": {
    "name": "ipython",
    "version": 3
   },
   "file_extension": ".py",
   "mimetype": "text/x-python",
   "name": "python",
   "nbconvert_exporter": "python",
   "pygments_lexer": "ipython3",
   "version": "3.10.13"
  }
 },
 "nbformat": 4,
 "nbformat_minor": 5
}
