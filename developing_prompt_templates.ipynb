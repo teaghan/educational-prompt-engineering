{
 "cells": [
  {
   "cell_type": "markdown",
   "id": "9019430d-1cd4-415f-97b1-c5015b389679",
   "metadata": {},
   "source": [
    "# Tips for productivity\n",
    "\n",
    "Identify a task that is repetative and time-consuming, but necessary. Create an refine a prompt to help with that task.\n",
    "- To do this, try your best to provide a prompt that includes a task and some of the other key components. Analyze the response from ChatGPT and identify any issues. Refine your prompt to address these issues until the response is exactly what you are looking for.\n",
    "    - Ask yourself: \"Is there something missing from the response?\" \"Is the format correct?\"\n",
    "    - The answers to these types of questions will help you modify your prompt.\n",
    "    - Do you need a better example? Do you need more specific context?"
   ]
  },
  {
   "cell_type": "markdown",
   "id": "ef8d82b4-858d-489b-b14e-deb21186d0a9",
   "metadata": {},
   "source": [
    "Techniques for imporiving prompts:\n",
    "\n",
    "1. adding constraints: desired length or tone\n",
    "\n",
    "2. using seed text: can help generate text that is more relevant to the prompt\n",
    "\n",
    "3. using more specific words: helps the model generate text that is more accurate and relevant\n",
    "\n",
    "4. structuring: helps to ensure that the response is organized and coherent\n",
    "\n",
    "Key metrics:\n",
    "\n",
    "- relevance: does the output match the intent of the prompt?\n",
    "\n",
    "- consistency: does the output maintain a consistent tone and style throughout the generated text?\n",
    "\n",
    "- coherence: does the output form a logical and coherent narrative?\n",
    "\n",
    "- diversity: does the output exhibit variety in its choice of words, phrases and sentences?\n",
    "\n",
    "Key steps for refining your prompts for better results:\n",
    "\n",
    "1. generate text using the current prompt\n",
    "2. evaluate performance of the model using the metrics mentioned above\n",
    "3. Make adjustments to the prompt using the techniques mentioned above\n",
    "4. Repeat steps 1-3 until the output meets your desired criteria\n",
    "\n",
    "Try storing these prompts within your workflow to minimize the number of clicks that it takes to get you to that final output. This may seem like overkill, but it emphasizes the importance of efficiency when using this tool."
   ]
  },
  {
   "cell_type": "markdown",
   "id": "14d77345-cd95-4b7c-afda-02411b8b430d",
   "metadata": {},
   "source": [
    "Be specific from the beginning\n",
    "\n",
    "state your intent (context and task)\n",
    "\n",
    "ask follow-up questions\n",
    "\n",
    "experiment with different phrasing\n",
    "\n",
    "prompt for fact-checking\n",
    "\n",
    "formula:\n",
    "\n",
    "[Context] + [Specific Information] + [Intent/Goal] + [Response Format (if needed)] = Perfect Prompt\n"
   ]
  }
 ],
 "metadata": {
  "kernelspec": {
   "display_name": "Python 3 (ipykernel)",
   "language": "python",
   "name": "python3"
  },
  "language_info": {
   "codemirror_mode": {
    "name": "ipython",
    "version": 3
   },
   "file_extension": ".py",
   "mimetype": "text/x-python",
   "name": "python",
   "nbconvert_exporter": "python",
   "pygments_lexer": "ipython3",
   "version": "3.10.12"
  }
 },
 "nbformat": 4,
 "nbformat_minor": 5
}
