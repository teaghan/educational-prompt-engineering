{
 "cells": [
  {
   "cell_type": "markdown",
   "id": "9019430d-1cd4-415f-97b1-c5015b389679",
   "metadata": {},
   "source": [
    "# Tips for productivity\n",
    "\n",
    "Identify a task that is repetative and time-consuming, but necessary. Create an refine a prompt to help with that task.\n",
    "- To do this, try your best to provide a prompt that includes a task and some of the other key components. Analyze the response from ChatGPT and identify any issues. Refine your prompt to address these issues until the response is exactly what you are looking for.\n",
    "    - Ask yourself: \"Is there something missing from the response?\" \"Is the format correct?\"\n",
    "    - The answers to these types of questions will help you modify your prompt.\n",
    "    - Do you need a better example? Do you need more specific context?\n",
    "\n",
    "Try stroing these prompts within your workflow to minimize the number of clicks that it takes to get you to that final output. This may seem like overkill, but it emphasizes the importance of efficiency when using this tool."
   ]
  },
  {
   "cell_type": "code",
   "execution_count": null,
   "id": "55bc3383-a070-4b1d-ba2d-aa3269c140d1",
   "metadata": {},
   "outputs": [],
   "source": []
  }
 ],
 "metadata": {
  "kernelspec": {
   "display_name": "Python 3 (ipykernel)",
   "language": "python",
   "name": "python3"
  },
  "language_info": {
   "codemirror_mode": {
    "name": "ipython",
    "version": 3
   },
   "file_extension": ".py",
   "mimetype": "text/x-python",
   "name": "python",
   "nbconvert_exporter": "python",
   "pygments_lexer": "ipython3",
   "version": "3.10.12"
  }
 },
 "nbformat": 4,
 "nbformat_minor": 5
}
