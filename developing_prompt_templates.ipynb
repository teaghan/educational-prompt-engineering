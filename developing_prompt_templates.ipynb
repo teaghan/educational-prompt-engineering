{
 "cells": [
  {
   "cell_type": "markdown",
   "id": "9019430d-1cd4-415f-97b1-c5015b389679",
   "metadata": {},
   "source": [
    "# Iterative Prompt Development\n",
    "\n",
    "Whether you are developing a single-use prompt or developing a template that you will use time and time again, designing the ideal prompt is often an iterative process.\n",
    "\n",
    "## 1. Visualize Your Ideal Response\n",
    "\n",
    "Once you have a task in mind for ChatGPT to assist with, visualize what an ideal response would look like. When you visualize this response, ask yourself if there are specific details regarding the [key components of a good prompt](https://github.com/teaghan/educational-prompt-engineering/blob/main/key_components.ipynb) that are relevant to this response. These components include:\n",
    "\n",
    "1. Task (always relevant)\n",
    "2. Context (usually relevant)\n",
    "3. Exemplars (very helpful)\n",
    "4. Persona (nice-to-have)\n",
    "5. Format (can be very helpful)\n",
    "6. Tone (nice-to-have)\n",
    "\n",
    "\n",
    "## 2. Provide an Initial Prompt\n",
    "\n",
    "Try your best to provide a prompt that includes a task and some of the other key components. \n",
    "\n",
    "Be specific from the beginning; putting more thought into a good initial prompt can make the iterative process of developing a good prompt much more efficient.\n",
    "\n",
    "A good formula to help get you started is:\n",
    "\n",
    "```\n",
    "1. General Context with Persona (if needed)\n",
    "2. More Specific Context \n",
    "3. Task \n",
    "4. Exemplar/Format/Tone (if needed)\n",
    "```\n",
    "\n",
    "## 3. Analyze the Response\n",
    "\n",
    "Using your initial prompt, produce a response from ChatGPT and identify any issues. \n",
    "\n",
    "Ask yourself: \n",
    "\n",
    "- Is there something missing from the response? \n",
    "- Is the format correct?\n",
    "- Does the output match the intent of the prompt?\n",
    "- Does the output maintain a consistent tone and style throughout the generated text?\n",
    "- Does the output form a logical and coherent narrative?\n",
    "\n",
    "## 4. Refine your Prompt \n",
    "\n",
    "Directly address the issues you found by modifying your prompt.\n",
    "\n",
    "- Do you need a better example? \n",
    "- Do you need more specific context?\n",
    "- Can you add constraints like providing a desired length or tone?\n",
    "- Can you use more specific wording that can help ChatGPT generate text that is more accurate and relevant?\n",
    "- Can you structure your prompt in a way that is more coherent and easy to understand?\n",
    "\n",
    "> **Tip:** If you feel like you are being specific enough, yet you continually find that the responses are not making the correct association, sometimes rephrasing the prompt is all it takes to align the response.\n",
    "\n",
    "Repeat steps 2-4 until the response meets your desired criteria\n",
    "\n",
    "# Creating a Template\n",
    "\n",
    "\n",
    "\n",
    "Identify a task that is repetative and time-consuming, but necessary. Create an refine a prompt to help with that task.\n",
    "\n",
    "Try storing these prompts within your workflow to minimize the number of clicks that it takes to get you to that final output. This may seem like overkill, but it emphasizes the importance of efficiency when using this tool.\n",
    "\n",
    "# Example\n"
   ]
  },
  {
   "cell_type": "markdown",
   "id": "a3a191db-6eaf-43ca-8c37-b3376159ea85",
   "metadata": {},
   "source": [
    "using seed text: can help generate text that is more relevant to the prompt\n",
    "\n",
    "> Tip: ask follow-up questions\n",
    "\n",
    "> Tip: prompt for fact-checking"
   ]
  },
  {
   "cell_type": "code",
   "execution_count": null,
   "id": "0685286f-e0ea-4e49-bd68-a4935b97a815",
   "metadata": {},
   "outputs": [],
   "source": []
  }
 ],
 "metadata": {
  "kernelspec": {
   "display_name": "Python 3 (ipykernel)",
   "language": "python",
   "name": "python3"
  },
  "language_info": {
   "codemirror_mode": {
    "name": "ipython",
    "version": 3
   },
   "file_extension": ".py",
   "mimetype": "text/x-python",
   "name": "python",
   "nbconvert_exporter": "python",
   "pygments_lexer": "ipython3",
   "version": "3.10.12"
  }
 },
 "nbformat": 4,
 "nbformat_minor": 5
}
