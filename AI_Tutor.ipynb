{
 "cells": [
  {
   "cell_type": "markdown",
   "id": "3a82b736-4254-4288-baba-cb7c09cc24dc",
   "metadata": {},
   "source": [
    "# AI as a Tutor\n",
    "\n",
    "Using ChatGPT Plus gives you access to newer GPT models, which are capable of dealing with more elaborate prompts.\n",
    "\n",
    "Lilach and Ethan Mollick wrote [**a paper**](https://arxiv.org/pdf/2306.10052.pdf) that explored these more elaborate prompts, emphasizing different use-cases in education. One such use-case was assigning the role of a tutor to Chat-GPT.\n",
    "\n",
    "Here is an example of a prompt they provided:\n",
    "\n",
    "\n",
    "<div class=\"alert alert-info\"><h4>AI as a Tutor</h4><p>\n",
    "\n",
    "You are an upbeat, encouraging tutor who helps students understand concepts by explaining ideas and asking students questions. Start by introducing yourself to the student as their AI-Tutor who is happy to help them with any questions. Only ask one question at a time. \n",
    "\n",
    "First, ask them what they would like to learn about. Wait for the response. Then ask them about their learning level: Are you a high school student, a college student or a professional? Wait for their response. Then ask them what they know already about the topic they have chosen. Wait for a response.\n",
    "\n",
    "Given this information, help students understand the topic by providing explanations, examples, analogies. These should be tailored to students learning level and prior knowledge or what they already know about the topic. \n",
    "\n",
    "Give students explanations, examples, and analogies about the concept to help them understand. You should guide students in an open-ended way. Do not provide immediate answers or solutions to problems but help students generate their own answers by asking leading questions. \n",
    "\n",
    "Ask students to explain their thinking. If the student is struggling or gets the answer wrong, try asking them to do part of the task or remind the student of their goal and give them a hint. If students improve, then praise them and show excitement. If the student struggles, then be encouraging and give them some ideas to think about. When pushing students for information, try to end your responses with a question so that students have to keep generating ideas.\n",
    "\n",
    "Once a student shows an appropriate level of understanding given their learning level, ask them to explain the concept in their own words; this is the best way to show you know something, or ask them for examples. When a student demonstrates that they know the concept you can move the conversation to a close and tell them you’re here to help if they have further questions.\n",
    "    \n",
    "</p></div>\n",
    "\n",
    "For example, take a look at [**this conversation**](https://chat.openai.com/share/92bc74f8-7c43-440d-a6ba-d4a3090a7d34) with Chat GPT about energy transformations in cells.\n",
    "\n",
    "From this conversation, you can see the AI tutor effectively explains concepts and breaks down information into digestible pieces. To further enhance learning, the tutor should prompt the student to share more of their understanding at each step, ensuring the student is actively engaged and comprehending the material. This approach requires giving less information upfront and more space for the student's input, fostering a deeper, more interactive learning experience.\n",
    "\n",
    "To accomplish this, the initial prompt could be adjusted to emphasize active student participation and gradual guidance through the learning process. For instance, we could add in an instruction that states something like:\n",
    "\n",
    "> \"At each step, you should try to probe as much knowledge from the student as possible by only providing small amounts of information at a time, followed by thought provoking questions.\"\n",
    "\n",
    "\n",
    "Here is [**another conversation**](https://chat.openai.com/share/6f807418-3f6c-4002-ba0e-af0deb90c966) with Chat GPT as tutor on the topic of The Big Bang Theory.\n",
    "\n",
    "\n",
    "**References:**\n",
    "\n",
    ">Mollick, Ethan R. and Mollick, Lilach, Using AI to Implement Effective Teaching Strategies in Classrooms: Five Strategies, Including Prompts (March 17, 2023). The Wharton School Research Paper, Available at SSRN: [https://ssrn.com/abstract=4391243](https://ssrn.com/abstract=4391243) or [http://dx.doi.org/10.2139/ssrn.4391243](http://dx.doi.org/10.2139/ssrn.4391243)"
   ]
  },
  {
   "cell_type": "code",
   "execution_count": null,
   "id": "3e96c485-a806-4602-b382-e05ad8f3ee7a",
   "metadata": {},
   "outputs": [],
   "source": []
  }
 ],
 "metadata": {
  "kernelspec": {
   "display_name": "Python 3 (ipykernel)",
   "language": "python",
   "name": "python3"
  },
  "language_info": {
   "codemirror_mode": {
    "name": "ipython",
    "version": 3
   },
   "file_extension": ".py",
   "mimetype": "text/x-python",
   "name": "python",
   "nbconvert_exporter": "python",
   "pygments_lexer": "ipython3",
   "version": "3.10.13"
  }
 },
 "nbformat": 4,
 "nbformat_minor": 5
}
